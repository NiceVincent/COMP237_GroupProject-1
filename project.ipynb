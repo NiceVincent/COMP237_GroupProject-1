{
 "cells": [
  {
   "cell_type": "code",
   "execution_count": 28,
   "metadata": {},
   "outputs": [],
   "source": [
    "import neurolab as nl\n",
    "import os\n",
    "import numpy as np\n",
    "import pandas as pd\n",
    "from sklearn.feature_extraction.text import CountVectorizer\n",
    "from nltk.corpus import stopwords\n",
    "from sklearn.model_selection import train_test_split\n",
    "from Model import Model\n",
    "import neurolab as nl\n",
    "from enum import Enum\n",
    "import nltk\n",
    "from pandas import DataFrame\n",
    "\n",
    "RANDOMS_SEED = 420\n",
    "TEST_SIZE = 0.4\n"
   ]
  },
  {
   "cell_type": "code",
   "execution_count": 26,
   "metadata": {},
   "outputs": [],
   "source": [
    "\n",
    "class PreprocessName(Enum):\n",
    "    LEMMATIZE = \"lemm\"\n",
    "    PORTER_STEMMER = \"porter\"\n",
    "    SNOWBALL_STEMMER = \"snowball\"\n",
    "    LANCASTER_STEMMER = \"lancaster\"\n",
    "\n",
    "\n",
    "class Preprocess:\n",
    "\n",
    "    def __init__(self):\n",
    "        self.data = self.load_data()\n",
    "\n",
    "    def load_data(self):\n",
    "        directory = os.path.dirname(os.path.realpath(''))\n",
    "        directory = os.path.join(\n",
    "            directory, \"COMP237_GroupProject\", \"YouTube-Spam-Collection-v1\")\n",
    "        files = [f for f in os.listdir(directory)]\n",
    "\n",
    "        # Create dataframe\n",
    "        # Columns: COMMENT_ID, AUTHOR, DATE, CONTENT, TAG\n",
    "        result = pd.concat(\n",
    "            (pd.read_csv(os.path.join(directory, f)) for f in files))\n",
    "\n",
    "        # Content and class matter, keep two columns only\n",
    "        result = result[['CONTENT', 'CLASS']]\n",
    "        return result\n",
    "\n",
    "    def word_Lemmatizer(self, texts):\n",
    "        return ''.join([nltk.WordNetLemmatizer().lemmatize(word=x)for x in texts])\n",
    "\n",
    "    def word_PorterStemmer(self, texts):\n",
    "        return ''.join([nltk.PorterStemmer().stem(word=x)for x in texts])\n",
    "\n",
    "    def word_SnowballStemmer(self, texts):\n",
    "        return ''.join([nltk.SnowballStemmer(language='english').stem(x)for x in texts])\n",
    "\n",
    "    def word_LancasterStemmer(self, texts):\n",
    "        return ''.join([nltk.LancasterStemmer().stem(word=x)for x in texts])\n",
    "\n",
    "    def dataframe_Lemmatizer(self):\n",
    "        tmp = self.data.copy()\n",
    "        tmp['CONTENT'] = tmp.apply(\n",
    "            lambda x: self.word_Lemmatizer(x['CONTENT']), axis=1)\n",
    "        return tmp\n",
    "\n",
    "    def dataframe_PorterStemmer(self):\n",
    "        tmp = self.data.copy()\n",
    "        tmp['CONTENT'] = tmp.apply(\n",
    "            lambda x: self.word_PorterStemmer(x['CONTENT']), axis=1)\n",
    "        return tmp\n",
    "\n",
    "    def dataframe_SnowballStemmer(self):\n",
    "        tmp = self.data.copy()\n",
    "        tmp['CONTENT'] = tmp.apply(\n",
    "            lambda x: self.word_SnowballStemmer(x['CONTENT']), axis=1)\n",
    "        return tmp\n",
    "\n",
    "    def dataframe_LancasterStemmer(self):\n",
    "        tmp = self.data.copy()\n",
    "        tmp['CONTENT'] = tmp.apply(\n",
    "            lambda x: self.word_LancasterStemmer(x['CONTENT']), axis=1)\n",
    "        return tmp\n",
    "\n",
    "    def count_vectorizer(self, data):\n",
    "        # Change mid_df for adjust nmber of vocabulary will be use, if the word frequency lower than min_df, it won't showw\n",
    "        count_vectorizer = CountVectorizer(stop_words='english', min_df=6)\n",
    "        bag_of_words = count_vectorizer.fit_transform(\n",
    "            [content for content in data['CONTENT']])\n",
    "        return pd.DataFrame(bag_of_words.toarray(\n",
    "        ), columns=count_vectorizer.get_feature_names_out())\n",
    "\n",
    "    def padding():\n",
    "        return ''\n",
    "\n",
    "    def get_tokenlized_df(self, preprocess: PreprocessName):\n",
    "        df = None\n",
    "        if preprocess == PreprocessName.LANCASTER_STEMMER:\n",
    "            df = self.dataframe_LancasterStemmer()\n",
    "        elif preprocess == PreprocessName.LEMMATIZE:\n",
    "            df = self.dataframe_Lemmatizer()\n",
    "        elif preprocess == PreprocessName.PORTER_STEMMER:\n",
    "            df = self.dataframe_PorterStemmer()\n",
    "        elif preprocess == PreprocessName.SNOWBALL_STEMMER:\n",
    "            df = self.dataframe_SnowballStemmer()\n",
    "        return self.count_vectorizer(df)\n"
   ]
  },
  {
   "cell_type": "code",
   "execution_count": 27,
   "metadata": {},
   "outputs": [],
   "source": [
    "class Model:\n",
    "\n",
    "    def __init__(self, token_data: DataFrame, class_data: DataFrame):\n",
    "        self.token_data = token_data\n",
    "        self.class_data = class_data\n",
    "        self.x_test, self.x_train, self.y_test, self.y_train = self.train_test_split()\n",
    "\n",
    "    def train_test_split(self, test_size: float = 0.3, random_seed: int = 420):\n",
    "        return train_test_split(\n",
    "            self.token_data, self.class_data, test_size=test_size, random_state=random_seed)\n",
    "\n",
    "    def min_max_pair(self):\n",
    "        return [[self.token_data.loc[:, col].min(), self.token_data.loc[:, col].max()] for col in self.token_data.columns]\n"
   ]
  },
  {
   "cell_type": "code",
   "execution_count": 14,
   "metadata": {},
   "outputs": [],
   "source": [
    "# Preprocess\n",
    "preprocess = Preprocess()\n",
    "lancaster_df = preprocess.get_tokenlized_df(PreprocessName.LANCASTER_STEMMER)\n",
    "# lemmatize_df = preprocess.get_tokenlized_df(PreprocessName.LEMMATIZE)\n",
    "# porter_df = preprocess.get_tokenlized_df(PreprocessName.PORTER_STEMMER)\n",
    "# snowball_df = preprocess.get_tokenlized_df(PreprocessName.SNOWBALL_STEMMER)\n",
    "\n"
   ]
  },
  {
   "cell_type": "code",
   "execution_count": null,
   "metadata": {},
   "outputs": [],
   "source": []
  },
  {
   "cell_type": "code",
   "execution_count": 22,
   "metadata": {},
   "outputs": [
    {
     "data": {
      "text/plain": [
       "0      0\n",
       "1      0\n",
       "2      1\n",
       "3      0\n",
       "4      0\n",
       "      ..\n",
       "345    0\n",
       "346    0\n",
       "347    1\n",
       "348    1\n",
       "349    0\n",
       "Name: CLASS, Length: 1956, dtype: int64"
      ]
     },
     "execution_count": 22,
     "metadata": {},
     "output_type": "execute_result"
    }
   ],
   "source": [
    "preprocess.data['CLASS']\n"
   ]
  },
  {
   "cell_type": "code",
   "execution_count": 23,
   "metadata": {},
   "outputs": [],
   "source": [
    "# Split datam into train and test\n",
    "model = Model(lancaster_df, preprocess.data['CLASS'])\n",
    "\n",
    "# Create new network\n",
    "nn_ex1 = nl.net.newff(model.min_max_pair(), [100, 50, 25])\n"
   ]
  },
  {
   "cell_type": "code",
   "execution_count": 25,
   "metadata": {},
   "outputs": [
    {
     "ename": "AssertionError",
     "evalue": "",
     "output_type": "error",
     "traceback": [
      "\u001b[0;31m---------------------------------------------------------------------------\u001b[0m",
      "\u001b[0;31mAssertionError\u001b[0m                            Traceback (most recent call last)",
      "Cell \u001b[0;32mIn[25], line 1\u001b[0m\n\u001b[0;32m----> 1\u001b[0m error_progress_ex1 \u001b[39m=\u001b[39m nn_ex1\u001b[39m.\u001b[39;49mtrain(model\u001b[39m.\u001b[39;49mx_train, model\u001b[39m.\u001b[39;49my_train,\n\u001b[1;32m      2\u001b[0m                                   epochs\u001b[39m=\u001b[39;49m\u001b[39m1000\u001b[39;49m, show\u001b[39m=\u001b[39;49m\u001b[39m15\u001b[39;49m, goal\u001b[39m=\u001b[39;49m\u001b[39m0.00001\u001b[39;49m)\n",
      "File \u001b[0;32m/Library/Frameworks/Python.framework/Versions/3.11/lib/python3.11/site-packages/neurolab/core.py:165\u001b[0m, in \u001b[0;36mNet.train\u001b[0;34m(self, *args, **kwargs)\u001b[0m\n\u001b[1;32m    159\u001b[0m \u001b[39mdef\u001b[39;00m \u001b[39mtrain\u001b[39m(\u001b[39mself\u001b[39m, \u001b[39m*\u001b[39margs, \u001b[39m*\u001b[39m\u001b[39m*\u001b[39mkwargs):\n\u001b[1;32m    160\u001b[0m \u001b[39m    \u001b[39m\u001b[39m\"\"\"\u001b[39;00m\n\u001b[1;32m    161\u001b[0m \u001b[39m    Train network\u001b[39;00m\n\u001b[1;32m    162\u001b[0m \u001b[39m    see net.trainf.__doc__\u001b[39;00m\n\u001b[1;32m    163\u001b[0m \n\u001b[1;32m    164\u001b[0m \u001b[39m    \"\"\"\u001b[39;00m\n\u001b[0;32m--> 165\u001b[0m     \u001b[39mreturn\u001b[39;00m \u001b[39mself\u001b[39;49m\u001b[39m.\u001b[39;49mtrainf(\u001b[39mself\u001b[39;49m, \u001b[39m*\u001b[39;49margs, \u001b[39m*\u001b[39;49m\u001b[39m*\u001b[39;49mkwargs)\n",
      "File \u001b[0;32m/Library/Frameworks/Python.framework/Versions/3.11/lib/python3.11/site-packages/neurolab/core.py:326\u001b[0m, in \u001b[0;36mTrainer.__call__\u001b[0;34m(self, net, input, target, **kwargs)\u001b[0m\n\u001b[1;32m    324\u001b[0m \u001b[39mif\u001b[39;00m target \u001b[39mis\u001b[39;00m \u001b[39mnot\u001b[39;00m \u001b[39mNone\u001b[39;00m:\n\u001b[1;32m    325\u001b[0m     target \u001b[39m=\u001b[39m np\u001b[39m.\u001b[39masfarray(target)\n\u001b[0;32m--> 326\u001b[0m     \u001b[39massert\u001b[39;00m target\u001b[39m.\u001b[39mndim \u001b[39m==\u001b[39m \u001b[39m2\u001b[39m\n\u001b[1;32m    327\u001b[0m     \u001b[39massert\u001b[39;00m target\u001b[39m.\u001b[39mshape[\u001b[39m1\u001b[39m] \u001b[39m==\u001b[39m net\u001b[39m.\u001b[39mco\n\u001b[1;32m    328\u001b[0m     \u001b[39massert\u001b[39;00m target\u001b[39m.\u001b[39mshape[\u001b[39m0\u001b[39m] \u001b[39m==\u001b[39m \u001b[39minput\u001b[39m\u001b[39m.\u001b[39mshape[\u001b[39m0\u001b[39m]\n",
      "\u001b[0;31mAssertionError\u001b[0m: "
     ]
    }
   ],
   "source": [
    "error_progress_ex1 = nn_ex1.train(model.x_train, model.y_train,\n",
    "                                  epochs=1000, show=15, goal=0.00001)\n"
   ]
  }
 ],
 "metadata": {
  "kernelspec": {
   "display_name": "Python 3",
   "language": "python",
   "name": "python3"
  },
  "language_info": {
   "codemirror_mode": {
    "name": "ipython",
    "version": 3
   },
   "file_extension": ".py",
   "mimetype": "text/x-python",
   "name": "python",
   "nbconvert_exporter": "python",
   "pygments_lexer": "ipython3",
   "version": "3.11.1"
  },
  "orig_nbformat": 4
 },
 "nbformat": 4,
 "nbformat_minor": 2
}
